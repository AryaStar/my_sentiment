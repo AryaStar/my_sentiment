{
 "cells": [
  {
   "cell_type": "code",
   "execution_count": 1,
   "metadata": {},
   "outputs": [],
   "source": [
    "import tensorflow as tf\n",
    "import tensorflow_datasets as tfds\n",
    "import numpy as np\n",
    "import pandas as pd\n",
    "import os"
   ]
  },
  {
   "cell_type": "code",
   "execution_count": 2,
   "metadata": {},
   "outputs": [],
   "source": [
    "df = pd.read_csv('movie_data.csv', encoding='utf-8')"
   ]
  },
  {
   "cell_type": "code",
   "execution_count": 3,
   "metadata": {},
   "outputs": [],
   "source": [
    "target = df.pop('sentiment')"
   ]
  },
  {
   "cell_type": "markdown",
   "metadata": {},
   "source": [
    "target和df是Series。df.values是numpy"
   ]
  },
  {
   "cell_type": "code",
   "execution_count": 4,
   "metadata": {},
   "outputs": [
    {
     "name": "stdout",
     "output_type": "stream",
     "text": [
      "b'In 1974, the teenager Martha Moxley (Maggie Grace)' 1\n",
      "b'OK... so... I really like Kris Kristofferson and h' 0\n",
      "b'***SPOILER*** Do not read this, if you think about' 0\n"
     ]
    },
    {
     "data": {
      "text/plain": [
       "bytes"
      ]
     },
     "execution_count": 4,
     "metadata": {},
     "output_type": "execute_result"
    }
   ],
   "source": [
    "# Step 1: Create a dataset\n",
    "\n",
    "ds_raw = tf.data.Dataset.from_tensor_slices(\n",
    "    (df.values, target.values))\n",
    "\n",
    "## inspection:\n",
    "for ex in ds_raw.take(3):\n",
    "    tf.print(ex[0].numpy()[0][:50], ex[1])\n",
    "type(ex[0].numpy()[0])"
   ]
  },
  {
   "cell_type": "code",
   "execution_count": 5,
   "metadata": {},
   "outputs": [],
   "source": [
    "tf.random.set_seed(1)\n",
    "\n",
    "ds_raw = ds_raw.shuffle(\n",
    "    50000, reshuffle_each_iteration=False)\n",
    "\n",
    "ds_raw_test = ds_raw.take(25000)\n",
    "ds_raw_train_valid = ds_raw.skip(25000)\n",
    "ds_raw_train = ds_raw_train_valid.take(20000)\n",
    "ds_raw_valid = ds_raw_train_valid.skip(20000)"
   ]
  },
  {
   "cell_type": "code",
   "execution_count": 6,
   "metadata": {},
   "outputs": [
    {
     "data": {
      "text/plain": [
       "tensorflow.python.data.ops.dataset_ops.TakeDataset"
      ]
     },
     "execution_count": 6,
     "metadata": {},
     "output_type": "execute_result"
    }
   ],
   "source": [
    "type(ds_raw_test)"
   ]
  },
  {
   "cell_type": "code",
   "execution_count": 7,
   "metadata": {},
   "outputs": [
    {
     "name": "stdout",
     "output_type": "stream",
     "text": [
      "Vocab-size: 87007\n"
     ]
    }
   ],
   "source": [
    "## Step 2: find unique tokens (words)\n",
    "\n",
    "from collections import Counter\n",
    "\n",
    "try:\n",
    "    tokenizer = tfds.features.text.Tokenizer()\n",
    "except AttributeError:\n",
    "    tokenizer = tfds.deprecated.text.Tokenizer()\n",
    "    \n",
    "token_counts = Counter()\n",
    "\n",
    "for example in ds_raw_train:\n",
    "    tokens = tokenizer.tokenize(example[0].numpy()[0])\n",
    "    token_counts.update(tokens)\n",
    "    \n",
    "print('Vocab-size:', len(token_counts))"
   ]
  },
  {
   "cell_type": "code",
   "execution_count": 68,
   "metadata": {},
   "outputs": [
    {
     "name": "stdout",
     "output_type": "stream",
     "text": [
      "<class 'collections.Counter'>\n"
     ]
    }
   ],
   "source": [
    "print(type(token_counts))"
   ]
  },
  {
   "cell_type": "code",
   "execution_count": 9,
   "metadata": {},
   "outputs": [
    {
     "data": {
      "text/plain": [
       "[232, 9, 270, 1123]"
      ]
     },
     "execution_count": 9,
     "metadata": {},
     "output_type": "execute_result"
    }
   ],
   "source": [
    "## Step 3: encoding each unique token into integers\n",
    "\n",
    "try:\n",
    "    encoder = tfds.features.text.TokenTextEncoder(token_counts)\n",
    "except AttributeError:\n",
    "    encoder = tfds.deprecated.text.TokenTextEncoder(token_counts)\n",
    "\n",
    "example_str = 'This is an example!'\n",
    "encoder.encode(example_str)"
   ]
  },
  {
   "cell_type": "code",
   "execution_count": 11,
   "metadata": {},
   "outputs": [],
   "source": [
    "## Step 3-A: define the function for transformation\n",
    "\n",
    "def encode(text_tensor, label):\n",
    "    text = text_tensor.numpy()[0]\n",
    "    encoded_text = encoder.encode(text)\n",
    "    return encoded_text, label\n",
    "\n",
    "## Step 3-B: wrap the encode function to a TF Op.\n",
    "def encode_map_fn(text, label):\n",
    "    return tf.py_function(encode, inp=[text, label], \n",
    "                          Tout=(tf.int64, tf.int64))"
   ]
  },
  {
   "cell_type": "code",
   "execution_count": 31,
   "metadata": {},
   "outputs": [
    {
     "name": "stdout",
     "output_type": "stream",
     "text": [
      "Sequence length: (24,)\n",
      "Sequence length: (179,)\n",
      "Sequence length: (262,)\n",
      "tf.Tensor(1, shape=(), dtype=int64)\n",
      "tf.Tensor(\n",
      "[15465  7185  1017   212    96    49   534  6664     6    14 18451  7125\n",
      "    32  1571   308 11258   100    14  8382 15596    80   668  3025   117\n",
      "   731     9 13897   642     6    14  7742   515    96  7789   318   318\n",
      "   636     8  2448    96   370  1854   280    14  1280    12   117  4998\n",
      " 16602    34     6   228  1566     9  7379  3203 12692    76   425  1689\n",
      "     8  1043  1591    96  1159   841   420   370  1854   280   117  1659\n",
      "  1410    56  3038   308  4069    96  7379  3203 12692  8067 19255 19380\n",
      "    39    76  1953    96   173  4973    14  1820   425  1964    32    75\n",
      "   684   436  2155     8   977   257   148  5571   148   534    13    14\n",
      "  1679    25  1159  1097     8    75   436  9953     6  4912    13   442\n",
      "  1681   148     8   283  1138    35   704  8537  1820    32     8   503\n",
      "     2   436 15438   249   104   156     6    35  6542    96   459    96\n",
      "    14  7311    32  7774  5009     8   563   104   155    96  1017    14\n",
      "  1617  5428    32  3552    32     9   436  5413    32  5355   534  4815\n",
      "  2629   100  3345    25  1499    40   117   866    13 19381    79 12143\n",
      "   212   253    24    25   256   257   990   322     8     9    38   305\n",
      "     8   176  7789   318   318  1635   425  2865   104   426   270  8168\n",
      "  5310  3038   214  1128   118  5027    13     8    38   698   257   613\n",
      "     8    35  3885    24   425   984  1507   117     8     9   156    35\n",
      "  7379  3203 12692  5316   419    14    58 15109   256   257   258   221\n",
      "   264   129   506    24     6   429   687     8     9   628    12    13\n",
      "    14   179  2155 19382   425  1366   562     6    35   340], shape=(262,), dtype=int64)\n"
     ]
    }
   ],
   "source": [
    "ds_train = ds_raw_train.map(encode_map_fn)\n",
    "ds_valid = ds_raw_valid.map(encode_map_fn)\n",
    "ds_test = ds_raw_test.map(encode_map_fn)\n",
    "\n",
    "tf.random.set_seed(1)\n",
    "for example in ds_train.shuffle(1000).take(3):\n",
    "    print('Sequence length:', example[0].shape)\n",
    "\n",
    "print(example[1])    \n",
    "print(example[0])"
   ]
  },
  {
   "cell_type": "code",
   "execution_count": 13,
   "metadata": {},
   "outputs": [
    {
     "data": {
      "text/plain": [
       "tensorflow.python.data.ops.dataset_ops.TakeDataset"
      ]
     },
     "execution_count": 13,
     "metadata": {},
     "output_type": "execute_result"
    }
   ],
   "source": [
    "# ## Take a small subset\n",
    "\n",
    "# ds_subset = ds_train.take(8)\n",
    "# for example in ds_subset:\n",
    "#     print('Individual size:', example[0].shape)\n",
    "\n",
    "# ## batching the datasets\n",
    "# ds_batched = ds_subset.padded_batch(\n",
    "#     4, padded_shapes=([-1], []))\n",
    "\n",
    "# for batch in ds_batched:\n",
    "#     print('Batch dimension:', batch[0].shape)\n"
   ]
  },
  {
   "cell_type": "code",
   "execution_count": 14,
   "metadata": {},
   "outputs": [],
   "source": [
    "## batching the datasets\n",
    "train_data = ds_train.padded_batch(\n",
    "    32, padded_shapes=([-1],[]))\n",
    "\n",
    "valid_data = ds_valid.padded_batch(\n",
    "    32, padded_shapes=([-1],[]))\n",
    "\n",
    "test_data = ds_test.padded_batch(\n",
    "    32, padded_shapes=([-1],[]))"
   ]
  },
  {
   "cell_type": "code",
   "execution_count": 15,
   "metadata": {},
   "outputs": [
    {
     "data": {
      "text/plain": [
       "tensorflow.python.data.ops.dataset_ops.PaddedBatchDataset"
      ]
     },
     "execution_count": 15,
     "metadata": {},
     "output_type": "execute_result"
    }
   ],
   "source": [
    "type(train_data)"
   ]
  },
  {
   "cell_type": "code",
   "execution_count": 16,
   "metadata": {},
   "outputs": [
    {
     "data": {
      "text/plain": [
       "87007"
      ]
     },
     "execution_count": 16,
     "metadata": {},
     "output_type": "execute_result"
    }
   ],
   "source": [
    "len(token_counts)"
   ]
  },
  {
   "cell_type": "markdown",
   "metadata": {},
   "source": [
    "# 模型建立"
   ]
  },
  {
   "cell_type": "code",
   "execution_count": 47,
   "metadata": {},
   "outputs": [
    {
     "name": "stdout",
     "output_type": "stream",
     "text": [
      "Model: \"sequential\"\n",
      "_________________________________________________________________\n",
      "Layer (type)                 Output Shape              Param #   \n",
      "=================================================================\n",
      "embed-layer (Embedding)      (None, None, 20)          1740180   \n",
      "_________________________________________________________________\n",
      "bidir-lstm (Bidirectional)   (None, 128)               43520     \n",
      "_________________________________________________________________\n",
      "dense (Dense)                (None, 64)                8256      \n",
      "_________________________________________________________________\n",
      "dense_1 (Dense)              (None, 1)                 65        \n",
      "=================================================================\n",
      "Total params: 1,792,021\n",
      "Trainable params: 1,792,021\n",
      "Non-trainable params: 0\n",
      "_________________________________________________________________\n",
      "Epoch 1/10\n",
      "625/625 [==============================] - 289s 459ms/step - loss: 0.5210 - accuracy: 0.7265 - val_loss: 0.3960 - val_accuracy: 0.8296\n",
      "Epoch 2/10\n",
      "625/625 [==============================] - 289s 462ms/step - loss: 0.2505 - accuracy: 0.9043 - val_loss: 0.3674 - val_accuracy: 0.8524\n",
      "Epoch 3/10\n",
      "625/625 [==============================] - 282s 452ms/step - loss: 0.1520 - accuracy: 0.9481 - val_loss: 0.4446 - val_accuracy: 0.8548\n",
      "Epoch 4/10\n",
      "625/625 [==============================] - 285s 455ms/step - loss: 0.1082 - accuracy: 0.9627 - val_loss: 0.5400 - val_accuracy: 0.7584\n",
      "Epoch 5/10\n",
      "625/625 [==============================] - 280s 448ms/step - loss: 0.0609 - accuracy: 0.9812 - val_loss: 0.6208 - val_accuracy: 0.8414\n",
      "Epoch 6/10\n",
      "625/625 [==============================] - 281s 450ms/step - loss: 0.0550 - accuracy: 0.9823 - val_loss: 0.8617 - val_accuracy: 0.8078\n",
      "Epoch 7/10\n",
      "625/625 [==============================] - 284s 454ms/step - loss: 0.2432 - accuracy: 0.8941 - val_loss: 0.5317 - val_accuracy: 0.7918\n",
      "Epoch 8/10\n",
      "625/625 [==============================] - 287s 459ms/step - loss: 0.4434 - accuracy: 0.7861 - val_loss: 0.5081 - val_accuracy: 0.8152\n",
      "Epoch 9/10\n",
      "625/625 [==============================] - 290s 464ms/step - loss: 0.1191 - accuracy: 0.9585 - val_loss: 0.5467 - val_accuracy: 0.8342\n",
      "Epoch 10/10\n",
      "625/625 [==============================] - 290s 464ms/step - loss: 0.0491 - accuracy: 0.9836 - val_loss: 0.6428 - val_accuracy: 0.8446\n",
      "782/782 [==============================] - 114s 146ms/step - loss: 0.6560 - accuracy: 0.8384\n",
      "Test Acc.: 83.84%\n"
     ]
    }
   ],
   "source": [
    "embedding_dim = 20\n",
    "vocab_size = len(token_counts) + 2\n",
    "\n",
    "tf.random.set_seed(1)\n",
    "\n",
    "## build the model\n",
    "bi_lstm_model = tf.keras.Sequential([\n",
    "    tf.keras.layers.Embedding(\n",
    "        input_dim=vocab_size,\n",
    "        output_dim=embedding_dim,\n",
    "        name='embed-layer'),\n",
    "    \n",
    "    tf.keras.layers.Bidirectional(\n",
    "        tf.keras.layers.LSTM(64, name='lstm-layer'),\n",
    "        name='bidir-lstm'), \n",
    "\n",
    "    tf.keras.layers.Dense(64, activation='relu'),\n",
    "    \n",
    "    tf.keras.layers.Dense(1, activation='sigmoid')\n",
    "])\n",
    "\n",
    "bi_lstm_model.summary()\n",
    "\n",
    "## compile and train:\n",
    "bi_lstm_model.compile(\n",
    "    optimizer=tf.keras.optimizers.Adam(1e-3),\n",
    "    loss=tf.keras.losses.BinaryCrossentropy(from_logits=False),\n",
    "    metrics=['accuracy'])\n",
    "\n",
    "history = bi_lstm_model.fit(\n",
    "    train_data, \n",
    "    validation_data=valid_data, \n",
    "    epochs=10)\n",
    "\n",
    "## evaluate on the test data\n",
    "test_results= bi_lstm_model.evaluate(test_data)\n",
    "print('Test Acc.: {:.2f}%'.format(test_results[1]*100))"
   ]
  },
  {
   "cell_type": "code",
   "execution_count": null,
   "metadata": {},
   "outputs": [],
   "source": []
  },
  {
   "cell_type": "code",
   "execution_count": 88,
   "metadata": {},
   "outputs": [],
   "source": [
    "if not os.path.exists('models'):\n",
    "    os.mkdir('models')\n",
    "\n",
    "# bi_lstm_model.save('models/Bidir-LSTM-full-length-seq.h5')\n",
    "\n",
    "new_model = tf.keras.models.load_model('models/Bidir-LSTM-full-length-seq.h5')\n"
   ]
  },
  {
   "cell_type": "code",
   "execution_count": 93,
   "metadata": {},
   "outputs": [
    {
     "name": "stdout",
     "output_type": "stream",
     "text": [
      "it is a bad sentence!\n"
     ]
    }
   ],
   "source": [
    "my = 'the people is so ugly'\n",
    "a = np.array((encoder.encode(my),))\n",
    "result = new_model.predict(x=a)\n",
    "\n",
    "\n",
    "if result[0][0] >= 0.5:\n",
    "    print('it is a good sentence!')\n",
    "else:\n",
    "    print('it is a bad sentence!')"
   ]
  },
  {
   "cell_type": "code",
   "execution_count": 65,
   "metadata": {},
   "outputs": [],
   "source": [
    "import json\n",
    "import pickle \n",
    "token_counts\n",
    "with open('myCounter.pickle', 'wb') as outputfile: \n",
    "    pickle.dump(token_counts,outputfile)\n",
    "\n",
    "with  open('myCounter.pickle', 'wb') as inputfile: \n",
    "    pickle.load(inputfile)"
   ]
  }
 ],
 "metadata": {
  "interpreter": {
   "hash": "8ab0d968002a578cf1e1aa041721a175249ba338f6da29efa5ef1a380c630376"
  },
  "kernelspec": {
   "display_name": "Python 3.8.8 64-bit ('base': conda)",
   "name": "python3"
  },
  "language_info": {
   "codemirror_mode": {
    "name": "ipython",
    "version": 3
   },
   "file_extension": ".py",
   "mimetype": "text/x-python",
   "name": "python",
   "nbconvert_exporter": "python",
   "pygments_lexer": "ipython3",
   "version": "3.8.8"
  },
  "orig_nbformat": 4
 },
 "nbformat": 4,
 "nbformat_minor": 2
}